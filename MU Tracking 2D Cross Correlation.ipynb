{
 "cells": [
  {
   "cell_type": "code",
   "execution_count": 1,
   "metadata": {
    "tags": []
   },
   "outputs": [],
   "source": [
    "from scipy import signal\n",
    "import numpy as np\n",
    "import scipy.io as sio\n",
    "import matplotlib.pyplot as plt"
   ]
  },
  {
   "cell_type": "code",
   "execution_count": 2,
   "metadata": {},
   "outputs": [],
   "source": [
    "#load trial - 1 trial, all MUs, all 64 channels\n",
    "Trial1 = sio.loadmat(\"C:\\\\Users\\\\danie\\\\Documents\\\\Python files\\\\LJ_Seg1_MVC_Attempt3NamesFixed.mat\", squeeze_me=True)\n",
    "Trial2 = sio.loadmat(\"C:\\\\Users\\\\danie\\\\Documents\\\\Python files\\\\LJ_Seg1_MVC_Attempt2.mat\", squeeze_me=True)"
   ]
  },
  {
   "cell_type": "code",
   "execution_count": 3,
   "metadata": {},
   "outputs": [
    {
     "name": "stdout",
     "output_type": "stream",
     "text": [
      "127\n",
      "127\n"
     ]
    }
   ],
   "source": [
    "# Create class to clean up\n",
    "\n",
    "class Segment(object):\n",
    "    def __init__(self, filename):\n",
    "        myfile    = sio.loadmat(filename, squeeze_me=True)\n",
    "        self.data = myfile['Data']\n",
    "        nchan     = 64 # nchan = number of channels\n",
    "        self.nt   = self.data.shape[0] # nt = extracted number of time points for MU, 0 because time is the first parameter\n",
    "        self.nmu  = self.data.shape[0] # nmu = number of motor units\n",
    "        self.data = self.data.reshape(self.nt, -1, nchan).transpose(1, 0, 2) #transpose to change orders\n",
    "       \n",
    "    \n",
    "seg1 = Segment(\"C:\\\\Users\\\\danie\\\\Documents\\\\Python files\\\\LJ_Seg1_MVC_Attempt3NamesFixed.mat\")\n",
    "print(seg1.nmu)\n",
    "seg2 = Segment(\"C:\\\\Users\\\\danie\\\\Documents\\\\Python files\\\\LJ_Seg1_MVC_Attempt2.mat\")\n",
    "print(seg2.nmu)"
   ]
  },
  {
   "cell_type": "code",
   "execution_count": 5,
   "metadata": {},
   "outputs": [
    {
     "ename": "TypeError",
     "evalue": "'Segment' object is not subscriptable",
     "output_type": "error",
     "traceback": [
      "\u001b[1;31m---------------------------------------------------------------------------\u001b[0m",
      "\u001b[1;31mTypeError\u001b[0m                                 Traceback (most recent call last)",
      "\u001b[1;32m<ipython-input-5-86e9e6fa44a5>\u001b[0m in \u001b[0;36m<module>\u001b[1;34m\u001b[0m\n\u001b[0;32m      7\u001b[0m \u001b[1;31m#print(obj_Segment.nt)\u001b[0m\u001b[1;33m\u001b[0m\u001b[1;33m\u001b[0m\u001b[1;33m\u001b[0m\u001b[0m\n\u001b[0;32m      8\u001b[0m \u001b[1;33m\u001b[0m\u001b[0m\n\u001b[1;32m----> 9\u001b[1;33m \u001b[0mnt\u001b[0m \u001b[1;33m=\u001b[0m \u001b[0mseg1\u001b[0m\u001b[1;33m[\u001b[0m\u001b[1;34m'Data'\u001b[0m\u001b[1;33m]\u001b[0m\u001b[1;33m.\u001b[0m\u001b[0mshape\u001b[0m\u001b[1;33m[\u001b[0m\u001b[1;36m0\u001b[0m\u001b[1;33m]\u001b[0m \u001b[1;31m#nt = extracted number of time points for MU, 0 because time is the first parameter\u001b[0m\u001b[1;33m\u001b[0m\u001b[1;33m\u001b[0m\u001b[0m\n\u001b[0m\u001b[0;32m     10\u001b[0m \u001b[0mnchan\u001b[0m \u001b[1;33m=\u001b[0m \u001b[1;36m64\u001b[0m \u001b[1;31m# nchan = number of channels\u001b[0m\u001b[1;33m\u001b[0m\u001b[1;33m\u001b[0m\u001b[0m\n\u001b[0;32m     11\u001b[0m \u001b[0mnmu\u001b[0m \u001b[1;33m=\u001b[0m \u001b[0mdata\u001b[0m\u001b[1;33m.\u001b[0m\u001b[0mshape\u001b[0m\u001b[1;33m[\u001b[0m\u001b[1;36m1\u001b[0m\u001b[1;33m]\u001b[0m \u001b[1;31m# nmu = number of motor units\u001b[0m\u001b[1;33m\u001b[0m\u001b[1;33m\u001b[0m\u001b[0m\n",
      "\u001b[1;31mTypeError\u001b[0m: 'Segment' object is not subscriptable"
     ]
    }
   ],
   "source": [
    "# Define variables\n",
    "\n",
    "#data = seg1['Data'].reshape(S_.,-1,nchan) #Reshape to add another dimension (motor unit) (e.g. 127, 2, 64) (time, MUs, channel)\n",
    "\n",
    "#obj_Segment = Segment()\n",
    "\n",
    "#print(obj_Segment.nt)\n",
    "\n",
    "nt = seg1['Data'].shape[0] #nt = extracted number of time points for MU, 0 because time is the first parameter\n",
    "nchan = 64 # nchan = number of channels\n",
    "nmu = data.shape[1] # nmu = number of motor units"
   ]
  },
  {
   "cell_type": "code",
   "execution_count": null,
   "metadata": {
    "tags": []
   },
   "outputs": [],
   "source": [
    "# Confirm array shape is correct\n",
    "\n",
    "#print(seg1)\n",
    "#print(seg2)\n",
    "\n",
    "seg1['Data'].shape\n",
    "seg2['Data'].shape"
   ]
  },
  {
   "cell_type": "code",
   "execution_count": null,
   "metadata": {},
   "outputs": [],
   "source": [
    "def my_corrcoef( x, y ):    \n",
    "    mean_x = np.mean( x )\n",
    "    mean_y = np.mean( y )\n",
    "    std_x  = np.std ( x )\n",
    "    std_y  = np.std ( y )\n",
    "    n      = np.product( x.shape )\n",
    "    return signal.correlate( x - mean_x, y - mean_y, mode = 'valid' )[0] / n / ( std_x * std_y )"
   ]
  },
  {
   "cell_type": "code",
   "execution_count": null,
   "metadata": {},
   "outputs": [],
   "source": [
    "# Create loop\n",
    "\n",
    "def compare_mus(segA, segB):\n",
    "    for iAmu, segAmu in enumerate(segA.data): # nmu, nt, nchan\n",
    "        for iBmu, segBmu in enumerate(segB.data):\n",
    "            r = my_corrcoef(segAmu, segBmu)\n",
    "            print(iAmu, iBmu, r)\n",
    "            \n",
    "compare_mus(seg2, seg2)"
   ]
  },
  {
   "cell_type": "code",
   "execution_count": null,
   "metadata": {},
   "outputs": [],
   "source": [
    "# Plot waveform data for MU1 and MU2 (overlay) from seg1\n",
    "\n",
    "plt.plot(seg1.data[5],'k') #MU1\n",
    "plt.plot(seg1.data[3],'r') #MU2\n",
    "#plt.plot(Section1['Data'][:,64:], 'c')"
   ]
  },
  {
   "cell_type": "code",
   "execution_count": null,
   "metadata": {
    "tags": []
   },
   "outputs": [],
   "source": [
    "# Still need?\n",
    "\n",
    "# Define data sets as variables\n",
    "\n",
    "mu1 = data[:,0,:]\n",
    "print(mu1)\n",
    "\n",
    "mu2 = data[:,1,:]\n",
    "print(mu2)"
   ]
  }
 ],
 "metadata": {
  "kernelspec": {
   "display_name": "Python 3",
   "language": "python",
   "name": "python3"
  },
  "language_info": {
   "codemirror_mode": {
    "name": "ipython",
    "version": 3
   },
   "file_extension": ".py",
   "mimetype": "text/x-python",
   "name": "python",
   "nbconvert_exporter": "python",
   "pygments_lexer": "ipython3",
   "version": "3.8.5"
  }
 },
 "nbformat": 4,
 "nbformat_minor": 5
}
